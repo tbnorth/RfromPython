{
 "cells": [
  {
   "cell_type": "markdown",
   "metadata": {},
   "source": [
    "# Running R from Python with rpy2\n",
    "\n",
    "`rpy2` runs a real R session \"in the back room\", and moves data back and forth between the foreground Python application and the R session in various ways.\n",
    "\n",
    "You can send text directly to the R session to be evaluated.  You can also access \"wrapper\" objects which pull R data into Python space, and pass data from Python into R."
   ]
  },
  {
   "cell_type": "markdown",
   "metadata": {},
   "source": [
    "## Installation\n",
    "\n",
    "### Using R with (Ana)conda\n",
    "\n",
    "Setting up Jupyter **Lab** in Windows.  Installing conda package `rpy2` **installs R in the conda environment**.\n",
    "\n",
    "```shell\n",
    "conda create -c conda-forge -n Renv rpy2 jupyterlab nodejs matplotlib pandas==0.23.4 ipympl geopandas fiona descartes\n",
    "```\n",
    "https://github.com/theislab/single-cell-tutorial/issues/7#issuecomment-458953080 for 0.23.4 issue, can't eval a dataframe from R\n",
    "\n",
    "```shell\n",
    "pip uninstall pyzmq\n",
    "pip install pyzmq\n",
    "# keep Jeff happy\n",
    "```\n",
    "\n",
    "```shell\n",
    "# for inline plots, not really relevant to R, takes a while\n",
    "jupyter labextension install @jupyter-widgets/jupyterlab-manager\n",
    "jupyter labextension install jupyter-matplotlib\n",
    "```\n",
    "\n",
    "### Using existing R\n",
    "\n",
    "Do you really need it?  See pets vs. cattle meme.\n",
    "\n",
    "conda installs R when you install rpy2.  So install rpy2 with either\n",
    "```shell\n",
    "pip install rpy2\n",
    "```\n",
    "but this fails on Windows, or\n",
    "```shell\n",
    "conda install -c conda-forge rpy2 --no-deps\n",
    "```\n",
    "\n",
    "Then modify your PATH to include your R, e.g.\n",
    "```shell\n",
    "set PATH=\"C:\\Program Files\\R\\R-3.4.3\\bin\\x64\";%PATH%\n",
    "```\n",
    "\n",
    "but this seems to be inoperable, at least in windows:\n",
    "```python\n",
    "from rpy2 import robjects\n",
    "```\n",
    "fails, even though R runs when invoked from the command line.  Probably easier in Linux.\n",
    "\n",
    "## Communicating with R"
   ]
  },
  {
   "cell_type": "code",
   "execution_count": null,
   "metadata": {},
   "outputs": [],
   "source": [
    "# Simply send text to R\n",
    "import rpy2\n",
    "from rpy2 import robjects  # doing this initializes the R session\n",
    "R = robjects.r\n",
    "# R(\"install.packages(c('ggplot2', 'spsurvey'))\")\n",
    "# R windows for selecting mirror and downloading progress pop up\n",
    "R(\"library('spsurvey')\")"
   ]
  },
  {
   "cell_type": "code",
   "execution_count": null,
   "metadata": {},
   "outputs": [],
   "source": [
    "# Or, if you wanted to manipulate R package installation with Python\n",
    "import rpy2.robjects.packages as rpackages  # access R packages\n",
    "utils = rpackages.importr('utils')\n",
    "utils.chooseCRANmirror(ind=1) # select the first mirror in the list\n",
    "required = ['ggplot2', 'spsurvey']  # a Python variable (list)\n",
    "for req in required:\n",
    "    if not rpackages.isinstalled(req):\n",
    "        print(\"Installing %s\" % req)\n",
    "        utils.install_packages(req)\n",
    "# this seems convoluted, but installs packages only if needed, so it's quick,\n",
    "# and keeps everything on the Python side, without worrying about new environments.\n",
    "for req in required:\n",
    "    R.library(req)"
   ]
  },
  {
   "cell_type": "markdown",
   "metadata": {},
   "source": [
    "**Note:** `R...install.packages...` but `utils.install_packages` - `_` not `.` in Python."
   ]
  },
  {
   "cell_type": "code",
   "execution_count": null,
   "metadata": {},
   "outputs": [],
   "source": [
    "# setup automatic pandas <-> R dataframe conversions\n",
    "from rpy2.robjects import pandas2ri\n",
    "pandas2ri.activate()"
   ]
  },
  {
   "cell_type": "code",
   "execution_count": null,
   "metadata": {},
   "outputs": [],
   "source": [
    "import os\n",
    "R.setwd(\"u:/repo/PyR\")\n",
    "os.chdir(\"u:/repo/PyR\")"
   ]
  },
  {
   "cell_type": "code",
   "execution_count": null,
   "metadata": {
    "slideshow": {
     "slide_type": "slide"
    }
   },
   "outputs": [],
   "source": [
    "%matplotlib inline\n",
    "import geopandas\n",
    "import matplotlib.pyplot as plt\n",
    "\n",
    "lakes = geopandas.read_file(\"Shapes/Great_Lakes_5.shp\")\n",
    "lakes.plot()"
   ]
  },
  {
   "cell_type": "code",
   "execution_count": null,
   "metadata": {},
   "outputs": [],
   "source": [
    "lakes.head()"
   ]
  },
  {
   "cell_type": "markdown",
   "metadata": {},
   "source": [
    "### spsurvey: Spatial Survey Design and Analysis\n",
    "\n",
    "\"These functions provide procedures for selecting sites for spatial surveys using spatially balanced algorithms applied to discrete points, linear networks, or polygons. The probability survey designs available include independent random samples, stratified random samples, and unequal probability random samples (categorical or probability proportional to size).\""
   ]
  },
  {
   "cell_type": "markdown",
   "metadata": {},
   "source": [
    "Original R code\n",
    "```R\n",
    "# Create the design list\n",
    "Stratdsgn <- list(\n",
    "  \"Lake Superior\"=list(panel=c(PanelOne=50), seltype=\"Equal\", over=20),\n",
    "  \"Lake Michigan\"=list(panel=c(PanelOne=30), seltype=\"Equal\", over=15),\n",
    "  \"Lake Huron\"=list(panel=c(PanelOne=30), seltype=\"Equal\", over=15),\n",
    "  \"Lake Erie\"=list(panel=c(PanelOne=20), seltype=\"Equal\", over=10),\n",
    "  \"Lake Ontario\"=list(panel=c(PanelOne=20), seltype=\"Equal\", over=10))\n",
    "```"
   ]
  },
  {
   "cell_type": "markdown",
   "metadata": {},
   "source": [
    "This uses R `list()`s for a collection of named attributes at two levels, but then switches to using an R vector (`c()`) for a collection of one named attribute.  Starting from scratch I would probably either put this data in a separate file (.csv) or use a `namedtuple` to make it less cluttered.  But translating directly to Python:"
   ]
  },
  {
   "cell_type": "code",
   "execution_count": null,
   "metadata": {},
   "outputs": [],
   "source": [
    "Stratdsgn = {\n",
    "  'Lake Superior': {'panel': {'PanelOne': 50}, 'seltype': \"Equal\", 'over': 20},\n",
    "  'Lake Michigan': {'panel': {'PanelOne': 30}, 'seltype': \"Equal\", 'over': 15},\n",
    "  'Lake Huron': {'panel': {'PanelOne': 30}, 'seltype': \"Equal\", 'over': 15},\n",
    "  'Lake Erie': {'panel': {'PanelOne': 20}, 'seltype': \"Equal\", 'over': 10},\n",
    "  'Lake Ontario': {'panel': {'PanelOne': 20}, 'seltype': \"Equal\", 'over': 10},\n",
    "}"
   ]
  },
  {
   "cell_type": "markdown",
   "metadata": {},
   "source": [
    "We need to convert this to R objects to call the R function.  `R.list`, aka `rpy2.robjects.r['list']` is the R `list()` function, which takes a series of `keyword=value` pairs.  In Python, keywords can't be expressions, like the string expression, `\"Lake Superior\"`, so you could write:"
   ]
  },
  {
   "cell_type": "code",
   "execution_count": null,
   "metadata": {},
   "outputs": [],
   "source": [
    "R_Stratdsgn = R.list(\n",
    "  Lake_Superior=R.list(panel=R.c(PanelOne=50), seltype=\"Equal\", over=20),\n",
    "  Lake_Michigan=R.list(panel=R.c(PanelOne=30), seltype=\"Equal\", over=15),\n",
    "  Lake_Huron=R.list(panel=R.c(PanelOne=30), seltype=\"Equal\", over=15),\n",
    "  Lake_Erie=R.list(panel=R.c(PanelOne=20), seltype=\"Equal\", over=10),\n",
    "  Lake_Ontario=R.list(panel=R.c(PanelOne=20), seltype=\"Equal\", over=10),\n",
    ")"
   ]
  },
  {
   "cell_type": "markdown",
   "metadata": {},
   "source": [
    "Or you could use Python's `**<dict>` operator, which converts the `<dict>` into a series of `keyword=value` pairs:"
   ]
  },
  {
   "cell_type": "code",
   "execution_count": null,
   "metadata": {},
   "outputs": [],
   "source": [
    "R_Stratdsgn = R.list(**{\n",
    "  'Lake Superior': R.list(panel=R.c(PanelOne=50), seltype=\"Equal\", over=20),\n",
    "  'Lake Michigan': R.list(panel=R.c(PanelOne=30), seltype=\"Equal\", over=15),\n",
    "  'Lake Huron': R.list(panel=R.c(PanelOne=30), seltype=\"Equal\", over=15),\n",
    "  'Lake Erie': R.list(panel=R.c(PanelOne=20), seltype=\"Equal\", over=10),\n",
    "  'Lake Ontario': R.list(panel=R.c(PanelOne=20), seltype=\"Equal\", over=10),\n",
    "})"
   ]
  },
  {
   "cell_type": "markdown",
   "metadata": {},
   "source": [
    "But if you're manipulating data in Python and only want the R version to call an R function, maybe convert the Python data structure to R objects like this:"
   ]
  },
  {
   "cell_type": "code",
   "execution_count": null,
   "metadata": {},
   "outputs": [],
   "source": [
    "R_Stratdsgn = R.list()  # top level list\n",
    "for lake, setup in Stratdsgn.items():\n",
    "    R_Stratdsgn = R.append(\n",
    "        R_Stratdsgn, \n",
    "        R.list(**{lake: R.list(  # lists within list\n",
    "            panel=R.c(**setup['panel']),  # R character vector\n",
    "            seltype=setup['seltype'],\n",
    "            over=setup['over'],\n",
    "        )})\n",
    "    )"
   ]
  },
  {
   "cell_type": "markdown",
   "metadata": {},
   "source": [
    "Original R code\n",
    "```R\n",
    "att <- read.dbf(\"Great_Lakes_5\")\n",
    "set.seed(4447864) #This allows you to re-create the points if needed\n",
    "\n",
    "Stratsites <- grts(design=Stratdsgn,\n",
    " DesignID=\"Stratified\",\n",
    " type.frame=\"area\",\n",
    " src.frame=\"shapefile\",\n",
    " in.shape=\"Great_Lakes_5\",\n",
    " att.frame=att,\n",
    " stratum=\"PNAME\",\n",
    " shapefile=TRUE,\n",
    " prjfilename=\"Great_Lakes_5\",\n",
    " out.shape=\"Stratified_Equal\")\n",
    "```"
   ]
  },
  {
   "cell_type": "code",
   "execution_count": null,
   "metadata": {},
   "outputs": [],
   "source": [
    "R(\"set.seed(4447864)\")  # This allows you to re-create the points if needed\n",
    "# OR\n",
    "base = rpackages.importr('base')\n",
    "base.set_seed(4447864)\n",
    "# OR\n",
    "R(\"set.seed(%s)\" % 4447864)  # generate text and pass it to R\n",
    "# OR\n",
    "R['set.seed'](4447864)"
   ]
  },
  {
   "cell_type": "markdown",
   "metadata": {},
   "source": [
    "### Calling the R `grts()` function"
   ]
  },
  {
   "cell_type": "code",
   "execution_count": null,
   "metadata": {},
   "outputs": [],
   "source": [
    "Stratsites = R['grts'](**{\n",
    "    'design': R_Stratdsgn,\n",
    "    'DesignID': \"Stratified\",\n",
    "    'type.frame': \"area\",\n",
    "    'src.frame': \"shapefile\",\n",
    "    'in.shape': \"Shapes\\\\Great_Lakes_5\",\n",
    "    'att.frame': lakes.drop(columns='geometry'),\n",
    "    'stratum': \"PNAME\",\n",
    "    'shapefile': True,\n",
    "    'prjfilename': \"Shapes\\\\Great_Lakes_5\",\n",
    "    'out.shape': \"Stratified_Equal\",\n",
    "})"
   ]
  },
  {
   "cell_type": "code",
   "execution_count": null,
   "metadata": {},
   "outputs": [],
   "source": [
    "pts = geopandas.read_file(\"Stratified_Equal.shp\")\n",
    "pts.plot()"
   ]
  },
  {
   "cell_type": "code",
   "execution_count": null,
   "metadata": {},
   "outputs": [],
   "source": [
    "pts.head()"
   ]
  },
  {
   "cell_type": "markdown",
   "metadata": {},
   "source": [
    "That was easy, but also cheating, Python just read a file R wrote.\n",
    "\n",
    "What about the value returned by the `grts()` function?"
   ]
  },
  {
   "cell_type": "code",
   "execution_count": null,
   "metadata": {},
   "outputs": [],
   "source": [
    "Stratsites\n",
    "dir(Stratsites)\n",
    "Stratsites.slots\n",
    "dir(Stratsites.slots)\n",
    "Stratsites.slots.keys\n",
    "Stratsites.slots.keys()\n",
    "list(Stratsites.slots.keys())\n",
    "list(Stratsites.slotnames())\n",
    "# ...\n",
    "list(Stratsites.slots.items())\n",
    "list(Stratsites.list_attrs())\n",
    "Stratsites.do_slot('coords')\n",
    "d = dict(Stratsites.slots.items())\n",
    "list(d)\n",
    "d['design']\n",
    "d['data']\n"
   ]
  },
  {
   "cell_type": "markdown",
   "metadata": {},
   "source": [
    "## Exchanging data frames"
   ]
  },
  {
   "cell_type": "code",
   "execution_count": null,
   "metadata": {},
   "outputs": [],
   "source": [
    "R.library('datasets')\n",
    "R.data('iris')\n",
    "type(R.iris)"
   ]
  },
  {
   "cell_type": "code",
   "execution_count": null,
   "metadata": {},
   "outputs": [],
   "source": [
    "R.iris.head()"
   ]
  },
  {
   "cell_type": "code",
   "execution_count": null,
   "metadata": {},
   "outputs": [],
   "source": [
    "R.iris['color'] = 'red'\n",
    "R.iris.columns"
   ]
  },
  {
   "cell_type": "markdown",
   "metadata": {},
   "source": [
    "Why didn't the `color` column stick?  `R.iris` returns a **copy** of the dataframe in the R session.  This is common for function calls (`foo.bar()`), but surprising for attribute access (`foo.bar`), although not too unusual, see Python propterties for example.  So keep a reference to the copy, and manipulate that directly:"
   ]
  },
  {
   "cell_type": "code",
   "execution_count": null,
   "metadata": {},
   "outputs": [],
   "source": [
    "iris = R.iris\n",
    "iris['color'] = 'red'\n",
    "iris.columns"
   ]
  },
  {
   "cell_type": "code",
   "execution_count": null,
   "metadata": {},
   "outputs": [],
   "source": [
    "from rpy2.robjects.packages import importr\n",
    "grdevices = importr('grDevices')\n",
    "\n",
    "iris.loc[iris.Species == 'setosa', 'color'] = 'blue'\n",
    "R.head(iris)\n",
    "iris.head()\n",
    "\n",
    "iris['color'] = R.c(iris['color']).factor()\n",
    "grdevices.png(file=\"test2.png\", width=512, height=512)\n",
    "R.plot(iris)\n",
    "grdevices.dev_off()\n"
   ]
  },
  {
   "cell_type": "markdown",
   "metadata": {},
   "source": [
    "To copy the modified iris dataframe into the R session you could use `R.assign('iris2', iris)`."
   ]
  },
  {
   "cell_type": "code",
   "execution_count": null,
   "metadata": {},
   "outputs": [],
   "source": [
    "def x(**kwargs):\n",
    "    print(\"Args:\")\n",
    "    for k, v in kwargs.items():\n",
    "        print(k, v)\n",
    "\n",
    "x(a=2, b=3)\n",
    "x(c=1, **{'a':2, \"Bee's\": 3})"
   ]
  }
 ],
 "metadata": {
  "kernelspec": {
   "display_name": "Python 3",
   "language": "python",
   "name": "python3"
  },
  "language_info": {
   "codemirror_mode": {
    "name": "ipython",
    "version": 3
   },
   "file_extension": ".py",
   "mimetype": "text/x-python",
   "name": "python",
   "nbconvert_exporter": "python",
   "pygments_lexer": "ipython3",
   "version": "3.7.3"
  }
 },
 "nbformat": 4,
 "nbformat_minor": 4
}
