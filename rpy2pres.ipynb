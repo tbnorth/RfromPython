{
 "cells": [
  {
   "cell_type": "markdown",
   "metadata": {},
   "source": [
    "`rpy2` runs a real R session \"in the back room\", and moves data back and forth between the foreground Python application and the R session in various ways.\n",
    "\n",
    "You can send text directly to the R session to be evaluated.  You can also access \"wrapper\" objects which pull R data into Python space, and pass data from Python into R."
   ]
  },
  {
   "cell_type": "code",
   "execution_count": null,
   "metadata": {},
   "outputs": [],
   "source": [
    "# Either, if you wanted to manipulate R package installation with Python\n",
    "from rpy2.robjects.vectors import StrVector  # for c('words', 'here')\n",
    "import rpy2.robjects.packages as rpackages  # access R packages\n",
    "utils = rpackages.importr('utils')\n",
    "utils.chooseCRANmirror(ind=1) # select the first mirror in the list\n",
    "required_packages = ['ggplot2', 'spsurvey']  # a Python variable (list)\n",
    "utils.install_packages(StrVector(required_packages))"
   ]
  },
  {
   "cell_type": "markdown",
   "metadata": {},
   "source": [
    "**Note:** `R...install.packages...` but `utils.install_packages` - `_` not `.` in Python."
   ]
  },
  {
   "cell_type": "code",
   "execution_count": null,
   "metadata": {},
   "outputs": [],
   "source": [
    "# Or, if you know which packages you need\n",
    "import rpy2\n",
    "R = rpy2.robjects.r\n",
    "R(\"install.packages(c('ggplot2', 'spsurvey'))\")\n",
    "R.library('spsurvey')  # or R(\"library(spsurvey)\")"
   ]
  },
  {
   "cell_type": "code",
   "execution_count": null,
   "metadata": {},
   "outputs": [],
   "source": [
    "import os\n",
    "os.chdir(\"u:/repo/PyR\")  # R's setwd()"
   ]
  },
  {
   "cell_type": "markdown",
   "metadata": {},
   "source": [
    "Original R code\n",
    "```R\n",
    "# Create the design list\n",
    "Stratdsgn <- list(\n",
    "  \"Lake Superior\"=list(panel=c(PanelOne=50), seltype=\"Equal\", over=20),\n",
    "  \"Lake Michigan\"=list(panel=c(PanelOne=30), seltype=\"Equal\", over=15),\n",
    "  \"Lake Huron\"=list(panel=c(PanelOne=30), seltype=\"Equal\", over=15),\n",
    "  \"Lake Erie\"=list(panel=c(PanelOne=20), seltype=\"Equal\", over=10),\n",
    "  \"Lake Ontario\"=list(panel=c(PanelOne=20), seltype=\"Equal\", over=10))\n",
    "```"
   ]
  },
  {
   "cell_type": "markdown",
   "metadata": {},
   "source": [
    "This uses R `list()`s for a collection of named attributes at two levels, but then switches to using an R vector (`c()`) for a collection of one named attribute.  Starting from scratch I would probably either put this data in a separate file (.csv) or use a `namedtuple` to make it less cluttered.  But translating directly to Python:"
   ]
  },
  {
   "cell_type": "code",
   "execution_count": null,
   "metadata": {},
   "outputs": [],
   "source": [
    "Stratdsgn = {\n",
    "  'Lake Superior': {'panel': {'PanelOne': 50}, 'seltype': \"Equal\", 'over': 20},\n",
    "  'Lake Michigan': {'panel': {'PanelOne': 30}, 'seltype': \"Equal\", 'over': 15},\n",
    "  'Lake Huron': {'panel': {'PanelOne': 30}, 'seltype': \"Equal\", 'over': 15},\n",
    "  'Lake Erie': {'panel': {'PanelOne': 20}, 'seltype': \"Equal\", 'over': 10},\n",
    "  'Lake Ontario': {'panel': {'PanelOne': 20}, 'seltype': \"Equal\", 'over': 10},\n",
    "}"
   ]
  },
  {
   "cell_type": "markdown",
   "metadata": {},
   "source": [
    "We need to convert this to R objects to call the R function.  `R.list`, aka `rpy2.robjects.r['list']` is the R `list()` function, which takes a series of `keyword=value` pairs.  In Python, keywords can't be expressions, like the string expression, `\"Lake Superior\"`, so you could write:"
   ]
  },
  {
   "cell_type": "code",
   "execution_count": null,
   "metadata": {},
   "outputs": [],
   "source": [
    "R_Stratdsgn = R.list(\n",
    "  Lake_Superior=R.list(panel=R.c(PanelOne=50), seltype=\"Equal\", over=20),\n",
    "  Lake_Michigan=R.list(panel=R.c(PanelOne=30), seltype=\"Equal\", over=15),\n",
    "  Lake_Huron=R.list(panel=R.c(PanelOne=30), seltype=\"Equal\", over=15),\n",
    "  Lake_Erie=R.list(panel=R.c(PanelOne=20), seltype=\"Equal\", over=10),\n",
    "  Lake_Ontario=R.list(panel=R.c(PanelOne=20), seltype=\"Equal\", over=10),\n",
    ")"
   ]
  },
  {
   "cell_type": "markdown",
   "metadata": {},
   "source": [
    "Or you could use Python's `**<dict>` operator, which converts the `<dict>` into a series of `keyword=value` pairs:"
   ]
  },
  {
   "cell_type": "code",
   "execution_count": null,
   "metadata": {},
   "outputs": [],
   "source": [
    "R_Stratdsgn = R.list(**{\n",
    "  'Lake Superior': R.list(panel=R.c(PanelOne=50), seltype=\"Equal\", over=20),\n",
    "  'Lake Michigan': R.list(panel=R.c(PanelOne=30), seltype=\"Equal\", over=15),\n",
    "  'Lake Huron': R.list(panel=R.c(PanelOne=30), seltype=\"Equal\", over=15),\n",
    "  'Lake Erie': R.list(panel=R.c(PanelOne=20), seltype=\"Equal\", over=10),\n",
    "  'Lake Ontario': R.list(panel=R.c(PanelOne=20), seltype=\"Equal\", over=10),\n",
    "})"
   ]
  },
  {
   "cell_type": "markdown",
   "metadata": {},
   "source": [
    "But if you're manipulating data in Python and only want the R version to call an R function, maybe convert the Python data structure to R objects like this:"
   ]
  },
  {
   "cell_type": "code",
   "execution_count": null,
   "metadata": {},
   "outputs": [],
   "source": [
    "R_Stratdsgn = R.list()\n",
    "for lake, setup in Stratdsgn.items():\n",
    "    R_Stratdsgn = R.append(\n",
    "        R_Stratdsgn, \n",
    "        R.list(**{lake: R.list(\n",
    "            panel=R.c(**setup['panel']),\n",
    "            seltype=setup['seltype'],\n",
    "            over=setup['over'],\n",
    "        )})\n",
    "    )"
   ]
  },
  {
   "cell_type": "code",
   "execution_count": null,
   "metadata": {
    "slideshow": {
     "slide_type": "slide"
    }
   },
   "outputs": [],
   "source": [
    "%matplotlib inline\n",
    "import geopandas\n",
    "import matplotlib.pyplot as plt\n",
    "# setup automatic pandas <-> R dataframe conversions\n",
    "from rpy2.robjects import pandas2ri\n",
    "pandas2ri.activate()\n",
    "\n",
    "lakes = geopandas.read_file(\"Shapes/Great_Lakes_5.shp\")\n",
    "lakes.plot()"
   ]
  },
  {
   "cell_type": "code",
   "execution_count": null,
   "metadata": {},
   "outputs": [],
   "source": [
    "lakes.head()"
   ]
  },
  {
   "cell_type": "markdown",
   "metadata": {},
   "source": [
    "Original R code\n",
    "```R\n",
    "att <- read.dbf(\"Great_Lakes_5\")\n",
    "set.seed(4447864) #This allows you to re-create the points if needed\n",
    "\n",
    "Stratsites <- grts(design=Stratdsgn,\n",
    " DesignID=\"Stratified\",\n",
    " type.frame=\"area\",\n",
    " src.frame=\"shapefile\",\n",
    " in.shape=\"Great_Lakes_5\",\n",
    " att.frame=att,\n",
    " stratum=\"PNAME\",\n",
    " shapefile=TRUE,\n",
    " prjfilename=\"Great_Lakes_5\",\n",
    " out.shape=\"Stratified_Equal\")\n",
    "```"
   ]
  },
  {
   "cell_type": "code",
   "execution_count": null,
   "metadata": {},
   "outputs": [],
   "source": [
    "R(\"set.seed(4447864)\")  # This allows you to re-create the points if needed\n",
    "# OR\n",
    "base = rpackages.importr('base')\n",
    "base.set_seed(4447864)\n",
    "# OR\n",
    "R(\"set.seed(%s)\" % 4447864)\n",
    "# OR\n",
    "R['set.seed'](4447864)"
   ]
  },
  {
   "cell_type": "code",
   "execution_count": null,
   "metadata": {},
   "outputs": [],
   "source": [
    "Stratsites = R['grts'](**{\n",
    "    'design': R_Stratdsgn,\n",
    "    'DesignID': \"Stratified\",\n",
    "    'type.frame': \"area\",\n",
    "    'src.frame': \"shapefile\",\n",
    "    'in.shape': \"Shapes\\\\Great_Lakes_5\",\n",
    "    'att.frame': lakes.drop(columns='geometry'),\n",
    "    'stratum': \"PNAME\",\n",
    "    'shapefile': True,\n",
    "    'prjfilename': \"Shapes\\\\Great_Lakes_5\",\n",
    "    'out.shape': \"Stratified_Equal\",\n",
    "})"
   ]
  },
  {
   "cell_type": "code",
   "execution_count": null,
   "metadata": {},
   "outputs": [],
   "source": [
    "pts = geopandas.read_file(\"Stratified_Equal.shp\")\n",
    "pts.plot()"
   ]
  },
  {
   "cell_type": "code",
   "execution_count": null,
   "metadata": {},
   "outputs": [],
   "source": [
    "pts.head()"
   ]
  },
  {
   "cell_type": "code",
   "execution_count": null,
   "metadata": {},
   "outputs": [],
   "source": [
    "dir(Stratsites)\n",
    "Stratsites.slots\n",
    "dir(Stratsites.slots)\n",
    "Stratsites.slots.keys\n",
    "Stratsites.slots.keys()\n",
    "list(Stratsites.slots.keys())\n",
    "list(Stratsites.slotnames())\n",
    "# ...\n",
    "list(Stratsites.slots.items())\n",
    "list(Stratsites.list_attrs())\n",
    "Stratsites.do_slot('coords')\n",
    "d = dict(Stratsites.slots.items())\n",
    "list(d)\n",
    "d['design']\n",
    "d['data']\n",
    "list(Stratsites.list_attrs())\n",
    "\n",
    "\n",
    "\n",
    "\n"
   ]
  },
  {
   "cell_type": "code",
   "execution_count": null,
   "metadata": {},
   "outputs": [],
   "source": []
  }
 ],
 "metadata": {
  "kernelspec": {
   "display_name": "Python 3",
   "language": "python",
   "name": "python3"
  },
  "language_info": {
   "codemirror_mode": {
    "name": "ipython",
    "version": 3
   },
   "file_extension": ".py",
   "mimetype": "text/x-python",
   "name": "python",
   "nbconvert_exporter": "python",
   "pygments_lexer": "ipython3",
   "version": "3.7.3"
  }
 },
 "nbformat": 4,
 "nbformat_minor": 4
}
